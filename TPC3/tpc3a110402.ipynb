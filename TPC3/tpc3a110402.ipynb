{
  "nbformat": 4,
  "nbformat_minor": 0,
  "metadata": {
    "colab": {
      "provenance": []
    },
    "kernelspec": {
      "name": "python3",
      "display_name": "Python 3"
    },
    "language_info": {
      "name": "python"
    }
  },
  "cells": [
    {
      "cell_type": "code",
      "execution_count": null,
      "metadata": {
        "colab": {
          "base_uri": "https://localhost:8080/",
          "height": 245
        },
        "id": "rllxq5qdag_K",
        "outputId": "37858375-5ef3-478a-8987-06d3d05a6cd1"
      },
      "outputs": [
        {
          "name": "stdout",
          "output_type": "stream",
          "text": [
            "Escolhe uma opção válida.\n",
            "Introduz a opção a que queres aceder:4\n"
          ]
        },
        {
          "output_type": "error",
          "ename": "ZeroDivisionError",
          "evalue": "division by zero",
          "traceback": [
            "\u001b[0;31m---------------------------------------------------------------------------\u001b[0m",
            "\u001b[0;31mZeroDivisionError\u001b[0m                         Traceback (most recent call last)",
            "\u001b[0;32m/tmp/ipython-input-3208359897.py\u001b[0m in \u001b[0;36m<cell line: 0>\u001b[0;34m()\u001b[0m\n\u001b[1;32m     37\u001b[0m \u001b[0;34m\u001b[0m\u001b[0m\n\u001b[1;32m     38\u001b[0m     \u001b[0;32melif\u001b[0m \u001b[0mopção\u001b[0m \u001b[0;34m==\u001b[0m \u001b[0;34m\"4\"\u001b[0m\u001b[0;34m:\u001b[0m\u001b[0;34m\u001b[0m\u001b[0;34m\u001b[0m\u001b[0m\n\u001b[0;32m---> 39\u001b[0;31m         \u001b[0mmédia\u001b[0m \u001b[0;34m=\u001b[0m \u001b[0msoma\u001b[0m \u001b[0;34m/\u001b[0m \u001b[0mlen\u001b[0m\u001b[0;34m(\u001b[0m\u001b[0mlista\u001b[0m\u001b[0;34m)\u001b[0m\u001b[0;34m\u001b[0m\u001b[0;34m\u001b[0m\u001b[0m\n\u001b[0m\u001b[1;32m     40\u001b[0m         \u001b[0mprint\u001b[0m\u001b[0;34m(\u001b[0m\u001b[0;34mf\"A média dos elementos na lista é de {média}.\"\u001b[0m\u001b[0;34m)\u001b[0m\u001b[0;34m\u001b[0m\u001b[0;34m\u001b[0m\u001b[0m\n\u001b[1;32m     41\u001b[0m         \u001b[0mopção\u001b[0m \u001b[0;34m=\u001b[0m \u001b[0minput\u001b[0m\u001b[0;34m(\u001b[0m\u001b[0;34m\"Introduz a opção a que queres aceder:\"\u001b[0m\u001b[0;34m)\u001b[0m\u001b[0;34m\u001b[0m\u001b[0;34m\u001b[0m\u001b[0m\n",
            "\u001b[0;31mZeroDivisionError\u001b[0m: division by zero"
          ]
        }
      ],
      "source": [
        "import random\n",
        "\n",
        "\n",
        "lista = []\n",
        "opção=\"\"\n",
        "\n",
        "while opção != \"0\":\n",
        "    if opção == \"1\":\n",
        "        list.clear(lista)\n",
        "        N = int(input(\"Insere o número de elementos que terá a tua lista:\"))\n",
        "        i = 0\n",
        "        while len(lista) < N:\n",
        "            elem = random.randint(0, 101)\n",
        "            lista.append(elem)\n",
        "            i = i + 1\n",
        "        print(f\"A lista que construí foi: {lista}\")\n",
        "        opção = input(\"Introduz a opção a que queres aceder:\")\n",
        "\n",
        "    elif opção == \"2\":\n",
        "        list.clear(lista)\n",
        "        N = int(input(\"Insere o número de elementos que terá a tua lista:\"))\n",
        "        i = 0\n",
        "        while len(lista) < N:\n",
        "            elem = int(input(\"Introduz o elemento que queres acrescentar na lista:\"))\n",
        "            lista.append(elem)\n",
        "            i = i + 1\n",
        "        print(f\"A lista que construíste foi: {lista}\")\n",
        "        opção = input(\"Introduz a opção a que queres aceder:\")\n",
        "\n",
        "    elif opção == \"3\":\n",
        "        soma = 0\n",
        "        for num in lista:\n",
        "            soma = soma + num\n",
        "        print(f\"A soma dos elementos da lista é de {soma}\")\n",
        "        opção = input(\"Introduz a opção a que queres aceder:\")\n",
        "\n",
        "    elif opção == \"4\":\n",
        "        média = soma / len(lista)\n",
        "        print(f\"A média dos elementos na lista é de {média}.\")\n",
        "        opção = input(\"Introduz a opção a que queres aceder:\")\n",
        "\n",
        "    elif opção == \"5\":\n",
        "        maior = lista[0]\n",
        "        for num in lista:\n",
        "            if num > maior:\n",
        "             maior = num\n",
        "        print(f\"O maior elemento da lista é {maior}\")\n",
        "        opção = input(\"Introduz a opção a que queres aceder:\")\n",
        "\n",
        "    elif opção == \"6\":\n",
        "        menor = lista[0]\n",
        "        for num in lista:\n",
        "            if num < menor:\n",
        "                menor = num\n",
        "        print(f\"O menor elemento da lista é {menor}\")\n",
        "        opção = input(\"Introduz a opção a que queres aceder:\")\n",
        "\n",
        "    elif opção == \"7\":\n",
        "        crescente = True\n",
        "        for i in range(len(lista)-1):\n",
        "            if lista[i] > lista[i+1]:\n",
        "                crescente = False\n",
        "        if crescente:\n",
        "            print(\"Sim, a lista está apresentada por ordem crescente.\")\n",
        "        else:\n",
        "            print(\"Não, a lista não está apresentada por ordem crescente.\")\n",
        "        opção = input(\"Introduz a opção a que queres aceder:\")\n",
        "\n",
        "\n",
        "    elif opção == \"8\":\n",
        "        decrescente = True\n",
        "        for i in range(len(lista)-1):\n",
        "            if lista[i] < lista[i+1]:\n",
        "                decrescente = False\n",
        "        if decrescente:\n",
        "             print(\"Sim, a lista está apresentada por ordem decrescente.\")\n",
        "        else:\n",
        "             print(\"Não, a lista não está apresentada por ordem decrescente.\")\n",
        "        opção = input(\"Introduz a opção a que queres aceder:\")\n",
        "\n",
        "\n",
        "    elif opção == \"9\":\n",
        "        elemento = int(input(\"Introduz o elemento que queres procurar na lista:\"))\n",
        "        if elemento in lista:\n",
        "            posição = (lista.index(elemento))\n",
        "            print(f\"O elemento {elemento} encontra-se na lista, na posição {posição}.\")\n",
        "        else:\n",
        "            print(f\"O elemento {elemento} não se encontra na lista.\")\n",
        "            print(\"-1\")\n",
        "        opção = input(\"Introduz a opção a que queres aceder:\")\n",
        "\n",
        "    elif opção not in [1,2,3,4,5,6,7,8,9]:\n",
        "        print(\"Escolhe uma opção válida.\")\n",
        "        opção = input(\"Introduz a opção a que queres aceder:\")\n",
        "\n",
        "print(f\"Escolheste sair. Muito obrigada {nome}, volta sempre que quiseres! A lista que ficou guardada: {lista}\")\n"
      ]
    }
  ]
}